{
  "nbformat": 4,
  "nbformat_minor": 0,
  "metadata": {
    "colab": {
      "name": "Week_02_Quiz.ipynb",
      "version": "0.3.2",
      "provenance": [],
      "include_colab_link": true
    },
    "kernelspec": {
      "name": "python3",
      "display_name": "Python 3"
    }
  },
  "cells": [
    {
      "cell_type": "markdown",
      "metadata": {
        "id": "view-in-github",
        "colab_type": "text"
      },
      "source": [
        "<a href=\"https://colab.research.google.com/github/EmmaMS/TensorFlow--Sequences-Time-Series-and-Predictions/blob/master/Week_02_Quiz.ipynb\" target=\"_parent\"><img src=\"https://colab.research.google.com/assets/colab-badge.svg\" alt=\"Open In Colab\"/></a>"
      ]
    },
    {
      "cell_type": "markdown",
      "metadata": {
        "id": "TsTwWPZphHy6",
        "colab_type": "text"
      },
      "source": [
        "# Week 2 Quiz\n",
        "1. What is a windowed dataset?\n",
        "> A fixed-size subset of a time series\n",
        "\n",
        "\n",
        "2.What does ‘drop_remainder=true’ do?\n",
        ">It ensures that all rows in the data window are the same length by cropping data\n",
        "\n",
        "\n",
        "3.What’s the correct line of code to split an n column window into n-1 columns for features and 1 column for a label\n",
        ">dataset=dataset.map(lamda window: (window[:-1],window[-1:]))\n",
        "\n",
        "\n",
        "4. What does MSE stand for?\n",
        "Mean Squared Error\n",
        "\n",
        "  \n",
        "5. What does MAE stand for?\n",
        "Mean Absolute Error\n",
        "  \n",
        "6. If time values are in time[], series values are in series[] and we want to split the series into training and validation at time 1000, what is the correct code?\n",
        "\n",
        ">time_train=time[:split_time]\n",
        "> x_train=series[:split_time]\n",
        "> time_valid=time[split_time:]\n",
        "> x_valid=series[split_time:]\n",
        "\n",
        "\n",
        "\n",
        "7.If you want to inspect the learned parameters in a layer after training, what’s a good technique to use?\n",
        "\n",
        "> Assign a variable to the layer and add it to the model using that variable. Inspect its properties after training.\n",
        "\n",
        "\n",
        "\n",
        "\n",
        "8. How do you set the learning rate of the SGD optimizer? \n",
        "> Use the lr property\n",
        "\n",
        "\n",
        "9. If you want to amend the learning rate of the optimizer on the fly, after each epoch, what do you do?\n",
        "> Use a LearningRateScheduler object in the callbacks namespace and assign to that callback\n",
        "\n",
        "\n",
        "\n",
        "\n",
        "\n",
        "\n",
        "\n",
        "\n",
        "\n"
      ]
    }
  ]
}