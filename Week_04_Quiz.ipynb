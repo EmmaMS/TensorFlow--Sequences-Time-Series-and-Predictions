{
  "nbformat": 4,
  "nbformat_minor": 0,
  "metadata": {
    "colab": {
      "name": "Week_02_Quiz.ipynb",
      "version": "0.3.2",
      "provenance": [],
      "include_colab_link": true
    },
    "kernelspec": {
      "name": "python3",
      "display_name": "Python 3"
    }
  },
  "cells": [
    {
      "cell_type": "markdown",
      "metadata": {
        "id": "view-in-github",
        "colab_type": "text"
      },
      "source": [
        "<a href=\"https://colab.research.google.com/github/EmmaMS/TensorFlow--Sequences-Time-Series-and-Predictions/blob/master/Week_04_Quiz.ipynb\" target=\"_parent\"><img src=\"https://colab.research.google.com/assets/colab-badge.svg\" alt=\"Open In Colab\"/></a>"
      ]
    },
    {
      "cell_type": "markdown",
      "metadata": {
        "id": "TsTwWPZphHy6",
        "colab_type": "text"
      },
      "source": [
        "# Week 4 Quiz\n",
        "1. How do you add a 1 dimensional convolution to your model for predicting time series data?\n",
        "> Use a Conv1D layer type\n",
        "\n",
        "\n",
        "2.What’s the input shape for a univariate time series to a Conv1D? \n",
        ">[None,1]\n",
        "\n",
        "\n",
        "3.You used a sunspots dataset that was stored in CSV. What’s the name of the Python library used to read CSVs?\n",
        "\n",
        "\n",
        ">CSV\n",
        "\n",
        "4.If your CSV file has a header that you don’t want to read into your dataset, what do you execute before iterating through the file using a ‘reader’ object?\n",
        "\n",
        "\n",
        "> next(reader)\n",
        "\n",
        "\n",
        "\n",
        "  \n",
        "5. When you read a row from a reader and want to cast column 2 to another data type, for example, a float, what’s the correct syntax?\n",
        ">float(row[2])\n",
        "\n",
        "  \n",
        "6. What was the sunspot seasonality?\n",
        "\n",
        "\n",
        "> 11 or 22 years depnding on who you ask\n",
        "  \n",
        "\n",
        "7. After studying this course, what neural network type do you think is best for predicting time series like our sunspots dataset?\n",
        "\n",
        "\n",
        "> A combination of all of the above\n",
        "\n",
        "\n",
        "\n",
        "\n",
        "8. Why is MAE a good analytic for measuring accuracy of predictions for time series?\n",
        "\n",
        "\n",
        "> It doesn't heavily punish larger errors like square errors do\n",
        "\n",
        "\n",
        "\n",
        "\n",
        "\n",
        "\n",
        "\n",
        "\n",
        "\n",
        "\n",
        "\n",
        "\n",
        "\n",
        "\n",
        "\n"
      ]
    }
  ]
}