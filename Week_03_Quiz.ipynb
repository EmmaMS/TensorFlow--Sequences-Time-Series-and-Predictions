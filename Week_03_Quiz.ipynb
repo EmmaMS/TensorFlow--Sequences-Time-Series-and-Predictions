{
  "nbformat": 4,
  "nbformat_minor": 0,
  "metadata": {
    "colab": {
      "name": "Week_02_Quiz.ipynb",
      "version": "0.3.2",
      "provenance": [],
      "include_colab_link": true
    },
    "kernelspec": {
      "name": "python3",
      "display_name": "Python 3"
    }
  },
  "cells": [
    {
      "cell_type": "markdown",
      "metadata": {
        "id": "view-in-github",
        "colab_type": "text"
      },
      "source": [
        "<a href=\"https://colab.research.google.com/github/EmmaMS/TensorFlow--Sequences-Time-Series-and-Predictions/blob/master/Week_03_Quiz.ipynb\" target=\"_parent\"><img src=\"https://colab.research.google.com/assets/colab-badge.svg\" alt=\"Open In Colab\"/></a>"
      ]
    },
    {
      "cell_type": "markdown",
      "metadata": {
        "id": "TsTwWPZphHy6",
        "colab_type": "text"
      },
      "source": [
        "# Week 3 Quiz\n",
        "1. If X is the standard notation for the input to an RNN, what are the standard notations for the outputs?\n",
        "> Y(hat) and H\n",
        "\n",
        "\n",
        "2.What is a sequence to vector if an RNN has 30 cells numbered 0 to 29\n",
        ">The Y(hat) for the last cell\n",
        "\n",
        "\n",
        "3. What does a Lambda layer in a neural network do?\n",
        ">Allows you to execute arbitrary code with training.\n",
        "\n",
        "4. What does the axis parameter of tf.expand_dims do?\n",
        "Defines the dimension index at which you will expand the shape of the tensor\n",
        "\n",
        "  \n",
        "5. A new loss function was introduced in this module, named after a famous statistician. What is it called?\n",
        ">Huber Loss\n",
        "\n",
        "  \n",
        "6. What’s the primary difference between a simple RNN and an LSTM\n",
        "\n",
        "\n",
        "> In addition to the H outputs, LSTMs have a cell state that runs across all cells.\n",
        "\n",
        "7. If you want to clear out all temporary variables that tensorflow might have from previous sessions, what code do you run?\n",
        "\n",
        "> kf.keras.beckend.clear_session()\n",
        "\n",
        "\n",
        "\n",
        "8. What happens if you define a neural network with these two layers?\n",
        "\n",
        "Your model will fail because you need return_sequences=True after the first LSTM layer\n",
        "\n",
        "\n",
        "\n",
        "\n",
        "\n",
        "\n",
        "\n",
        "\n",
        "\n",
        "\n",
        "\n",
        "\n",
        "\n"
      ]
    }
  ]
}