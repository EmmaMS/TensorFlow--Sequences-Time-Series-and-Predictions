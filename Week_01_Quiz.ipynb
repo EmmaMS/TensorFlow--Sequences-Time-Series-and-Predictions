{
  "nbformat": 4,
  "nbformat_minor": 0,
  "metadata": {
    "colab": {
      "name": "Week_02_Quiz.ipynb",
      "version": "0.3.2",
      "provenance": [],
      "include_colab_link": true
    },
    "kernelspec": {
      "name": "python3",
      "display_name": "Python 3"
    }
  },
  "cells": [
    {
      "cell_type": "markdown",
      "metadata": {
        "id": "view-in-github",
        "colab_type": "text"
      },
      "source": [
        "<a href=\"https://colab.research.google.com/github/EmmaMS/TensorFlow--Sequences-Time-Series-and-Predictions/blob/master/Week_01_Quiz.ipynb\" target=\"_parent\"><img src=\"https://colab.research.google.com/assets/colab-badge.svg\" alt=\"Open In Colab\"/></a>"
      ]
    },
    {
      "cell_type": "markdown",
      "metadata": {
        "id": "TsTwWPZphHy6",
        "colab_type": "text"
      },
      "source": [
        "# Week 3 Quiz\n",
        "1. Why does sequence make a large difference when determining semantics of language?\n",
        "> Because the order in which words appear dictate their impact on the meaning of the sentence\n",
        "\n",
        "\n",
        "2.How do Recurrent Neural Networks help you understand the impact of sequence on meaning?\n",
        ">They carry meaning from one cell to the next\n",
        "\n",
        "\n",
        "3.How does an LSTM help understand meaning when words that qualify each other aren’t necessarily beside each other in a sentence?\n",
        ">Values from earlier words can be carried to later ones via a cell state\n",
        "\n",
        "\n",
        "4What keras layer type allows LSTMs to look forward and backward in a sentence?\n",
        ">Bidirectional\n",
        "\n",
        "  \n",
        "5. What’s the output shape of a bidirectional LSTM layer with 64 units?\n",
        ">(None,128)\n",
        "\n",
        "  \n",
        "6. When stacking LSTMs, how do you instruct an LSTM to feed the next one in the sequence?\n",
        "\n",
        "\n",
        "> Ensure that return_seqences is set to True only on units that feed to another LSTM\n",
        "  \n",
        "\n",
        "7.If a sentence has 120 tokens in it, and a Conv1D with 128 filters with a Kernal size of 5 is passed over it, what’s the output shape?\n",
        "\n",
        "\n",
        "> (None,116,128)\n",
        "\n",
        "\n",
        "\n",
        "\n",
        "8. What’s the best way to avoid overfitting in NLP datasets?\n",
        "\n",
        "Not LSTM, or GRUs or Conv1D\n",
        "\n",
        "\n",
        "\n",
        "\n",
        "\n",
        "\n",
        "\n",
        "\n",
        "\n",
        "\n",
        "\n",
        "\n",
        "\n",
        "\n"
      ]
    }
  ]
}