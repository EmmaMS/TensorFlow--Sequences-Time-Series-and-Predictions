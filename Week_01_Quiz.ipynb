{
  "nbformat": 4,
  "nbformat_minor": 0,
  "metadata": {
    "colab": {
      "name": "Week_02_Quiz.ipynb",
      "version": "0.3.2",
      "provenance": [],
      "include_colab_link": true
    },
    "kernelspec": {
      "name": "python3",
      "display_name": "Python 3"
    }
  },
  "cells": [
    {
      "cell_type": "markdown",
      "metadata": {
        "id": "view-in-github",
        "colab_type": "text"
      },
      "source": [
        "<a href=\"https://colab.research.google.com/github/EmmaMS/TensorFlow--Sequences-Time-Series-and-Predictions/blob/master/Week_01_Quiz.ipynb\" target=\"_parent\"><img src=\"https://colab.research.google.com/assets/colab-badge.svg\" alt=\"Open In Colab\"/></a>"
      ]
    },
    {
      "cell_type": "markdown",
      "metadata": {
        "id": "TsTwWPZphHy6",
        "colab_type": "text"
      },
      "source": [
        "# Week 1 Quiz\n",
        "1. What is an example of a Univariate time series?\n",
        ">Hour by hour temperature\n",
        "\n",
        "\n",
        "2. What is an example of a Multivariate time series?\n",
        "Hour by hour weather\n",
        "\n",
        "\n",
        "3.What is imputed data?\n",
        ">A projection of unknown (usually past or missing) data.\n",
        "\n",
        "4. A sound wave is a good example of time series data\n",
        "\n",
        "\n",
        "True\n",
        "  \n",
        "5. What is Seasonality?\n",
        ">A regular change in the shape of the data\n",
        "  \n",
        "6. What is a trend?\n",
        "\n",
        "> An overall direction for data regardless of direction\n",
        "  \n",
        "\n",
        "7.In the context of time series, what is noise?\n",
        "\n",
        "> Unpredictable changes in time series data\n",
        "\n",
        "\n",
        "\n",
        "8. What is autocorrelation?\n",
        "\n",
        "\n",
        "> Data that follows a predictable shape, even if the scale is different\n",
        "\n",
        "\n",
        "9. What is a non-stationary time series?\n",
        "\n",
        "\n",
        "> One that has a disruptive event breaking trend and seasonality\n",
        "\n",
        "\n",
        "\n",
        "\n",
        "\n",
        "\n",
        "\n",
        "\n",
        "\n",
        "\n",
        "\n",
        "\n",
        "\n",
        "\n",
        "\n"
      ]
    }
  ]
}